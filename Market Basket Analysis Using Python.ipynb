{
 "cells": [
  {
   "cell_type": "markdown",
   "id": "d12da175",
   "metadata": {
    "slideshow": {
     "slide_type": "slide"
    }
   },
   "source": [
    "# MARKET BASKET ANALYSIS USING PYTHON \n",
    "#### Performed by : Tirth Chirayu Shah"
   ]
  },
  {
   "cell_type": "markdown",
   "id": "dfc3e6d7",
   "metadata": {
    "slideshow": {
     "slide_type": "slide"
    }
   },
   "source": [
    "### Start with importing the libraries required to perform the Market Basket Analysis(i.e. MBA) \n",
    "- we would be needing Numpy and Pandas for basic Data Cleaning and Data Preparation \n",
    "- we would be needing Matplotlib for visualizing the market distribute\n",
    "- finally, we would be required to install \"APRIORI\" library to perform the MBA  (use ''' pip install apyori ''')\n",
    "\n",
    "#### Let's import all these and get started with data cleaning"
   ]
  },
  {
   "cell_type": "code",
   "execution_count": 1,
   "id": "c05ccb0d",
   "metadata": {
    "slideshow": {
     "slide_type": "subslide"
    }
   },
   "outputs": [],
   "source": [
    "import numpy as np\n",
    "import pandas as pd\n",
    "from apyori import apriori\n",
    "import matplotlib.pyplot as plt"
   ]
  },
  {
   "cell_type": "markdown",
   "id": "c3bc4b1f",
   "metadata": {
    "slideshow": {
     "slide_type": "slide"
    }
   },
   "source": [
    "#### Let's read the CSV file provided by : <l>https://github.com/Tirth-1999/Machine-Learning-with-R-datasets/blob/master/groceries.csv"
   ]
  },
  {
   "cell_type": "code",
   "execution_count": 2,
   "id": "d6e4d28a",
   "metadata": {
    "slideshow": {
     "slide_type": "subslide"
    }
   },
   "outputs": [
    {
     "data": {
      "text/html": [
       "<div>\n",
       "<style scoped>\n",
       "    .dataframe tbody tr th:only-of-type {\n",
       "        vertical-align: middle;\n",
       "    }\n",
       "\n",
       "    .dataframe tbody tr th {\n",
       "        vertical-align: top;\n",
       "    }\n",
       "\n",
       "    .dataframe thead th {\n",
       "        text-align: right;\n",
       "    }\n",
       "</style>\n",
       "<table border=\"1\" class=\"dataframe\">\n",
       "  <thead>\n",
       "    <tr style=\"text-align: right;\">\n",
       "      <th></th>\n",
       "      <th>0</th>\n",
       "      <th>1</th>\n",
       "      <th>2</th>\n",
       "      <th>3</th>\n",
       "      <th>4</th>\n",
       "      <th>5</th>\n",
       "      <th>6</th>\n",
       "      <th>7</th>\n",
       "      <th>8</th>\n",
       "      <th>9</th>\n",
       "      <th>...</th>\n",
       "      <th>22</th>\n",
       "      <th>23</th>\n",
       "      <th>24</th>\n",
       "      <th>25</th>\n",
       "      <th>26</th>\n",
       "      <th>27</th>\n",
       "      <th>28</th>\n",
       "      <th>29</th>\n",
       "      <th>30</th>\n",
       "      <th>31</th>\n",
       "    </tr>\n",
       "  </thead>\n",
       "  <tbody>\n",
       "    <tr>\n",
       "      <th>0</th>\n",
       "      <td>citrus fruit</td>\n",
       "      <td>semi-finished bread</td>\n",
       "      <td>margarine</td>\n",
       "      <td>ready soups</td>\n",
       "      <td>NaN</td>\n",
       "      <td>NaN</td>\n",
       "      <td>NaN</td>\n",
       "      <td>NaN</td>\n",
       "      <td>NaN</td>\n",
       "      <td>NaN</td>\n",
       "      <td>...</td>\n",
       "      <td>NaN</td>\n",
       "      <td>NaN</td>\n",
       "      <td>NaN</td>\n",
       "      <td>NaN</td>\n",
       "      <td>NaN</td>\n",
       "      <td>NaN</td>\n",
       "      <td>NaN</td>\n",
       "      <td>NaN</td>\n",
       "      <td>NaN</td>\n",
       "      <td>NaN</td>\n",
       "    </tr>\n",
       "    <tr>\n",
       "      <th>1</th>\n",
       "      <td>tropical fruit</td>\n",
       "      <td>yogurt</td>\n",
       "      <td>coffee</td>\n",
       "      <td>NaN</td>\n",
       "      <td>NaN</td>\n",
       "      <td>NaN</td>\n",
       "      <td>NaN</td>\n",
       "      <td>NaN</td>\n",
       "      <td>NaN</td>\n",
       "      <td>NaN</td>\n",
       "      <td>...</td>\n",
       "      <td>NaN</td>\n",
       "      <td>NaN</td>\n",
       "      <td>NaN</td>\n",
       "      <td>NaN</td>\n",
       "      <td>NaN</td>\n",
       "      <td>NaN</td>\n",
       "      <td>NaN</td>\n",
       "      <td>NaN</td>\n",
       "      <td>NaN</td>\n",
       "      <td>NaN</td>\n",
       "    </tr>\n",
       "    <tr>\n",
       "      <th>2</th>\n",
       "      <td>whole milk</td>\n",
       "      <td>NaN</td>\n",
       "      <td>NaN</td>\n",
       "      <td>NaN</td>\n",
       "      <td>NaN</td>\n",
       "      <td>NaN</td>\n",
       "      <td>NaN</td>\n",
       "      <td>NaN</td>\n",
       "      <td>NaN</td>\n",
       "      <td>NaN</td>\n",
       "      <td>...</td>\n",
       "      <td>NaN</td>\n",
       "      <td>NaN</td>\n",
       "      <td>NaN</td>\n",
       "      <td>NaN</td>\n",
       "      <td>NaN</td>\n",
       "      <td>NaN</td>\n",
       "      <td>NaN</td>\n",
       "      <td>NaN</td>\n",
       "      <td>NaN</td>\n",
       "      <td>NaN</td>\n",
       "    </tr>\n",
       "    <tr>\n",
       "      <th>3</th>\n",
       "      <td>pip fruit</td>\n",
       "      <td>yogurt</td>\n",
       "      <td>cream cheese</td>\n",
       "      <td>meat spreads</td>\n",
       "      <td>NaN</td>\n",
       "      <td>NaN</td>\n",
       "      <td>NaN</td>\n",
       "      <td>NaN</td>\n",
       "      <td>NaN</td>\n",
       "      <td>NaN</td>\n",
       "      <td>...</td>\n",
       "      <td>NaN</td>\n",
       "      <td>NaN</td>\n",
       "      <td>NaN</td>\n",
       "      <td>NaN</td>\n",
       "      <td>NaN</td>\n",
       "      <td>NaN</td>\n",
       "      <td>NaN</td>\n",
       "      <td>NaN</td>\n",
       "      <td>NaN</td>\n",
       "      <td>NaN</td>\n",
       "    </tr>\n",
       "    <tr>\n",
       "      <th>4</th>\n",
       "      <td>other vegetables</td>\n",
       "      <td>whole milk</td>\n",
       "      <td>condensed milk</td>\n",
       "      <td>long life bakery product</td>\n",
       "      <td>NaN</td>\n",
       "      <td>NaN</td>\n",
       "      <td>NaN</td>\n",
       "      <td>NaN</td>\n",
       "      <td>NaN</td>\n",
       "      <td>NaN</td>\n",
       "      <td>...</td>\n",
       "      <td>NaN</td>\n",
       "      <td>NaN</td>\n",
       "      <td>NaN</td>\n",
       "      <td>NaN</td>\n",
       "      <td>NaN</td>\n",
       "      <td>NaN</td>\n",
       "      <td>NaN</td>\n",
       "      <td>NaN</td>\n",
       "      <td>NaN</td>\n",
       "      <td>NaN</td>\n",
       "    </tr>\n",
       "  </tbody>\n",
       "</table>\n",
       "<p>5 rows × 32 columns</p>\n",
       "</div>"
      ],
      "text/plain": [
       "                 0                    1               2   \\\n",
       "0      citrus fruit  semi-finished bread       margarine   \n",
       "1    tropical fruit               yogurt          coffee   \n",
       "2        whole milk                  NaN             NaN   \n",
       "3         pip fruit               yogurt   cream cheese    \n",
       "4  other vegetables           whole milk  condensed milk   \n",
       "\n",
       "                         3    4    5    6    7    8    9   ...   22   23   24  \\\n",
       "0               ready soups  NaN  NaN  NaN  NaN  NaN  NaN  ...  NaN  NaN  NaN   \n",
       "1                       NaN  NaN  NaN  NaN  NaN  NaN  NaN  ...  NaN  NaN  NaN   \n",
       "2                       NaN  NaN  NaN  NaN  NaN  NaN  NaN  ...  NaN  NaN  NaN   \n",
       "3              meat spreads  NaN  NaN  NaN  NaN  NaN  NaN  ...  NaN  NaN  NaN   \n",
       "4  long life bakery product  NaN  NaN  NaN  NaN  NaN  NaN  ...  NaN  NaN  NaN   \n",
       "\n",
       "    25   26   27   28   29   30   31  \n",
       "0  NaN  NaN  NaN  NaN  NaN  NaN  NaN  \n",
       "1  NaN  NaN  NaN  NaN  NaN  NaN  NaN  \n",
       "2  NaN  NaN  NaN  NaN  NaN  NaN  NaN  \n",
       "3  NaN  NaN  NaN  NaN  NaN  NaN  NaN  \n",
       "4  NaN  NaN  NaN  NaN  NaN  NaN  NaN  \n",
       "\n",
       "[5 rows x 32 columns]"
      ]
     },
     "metadata": {},
     "output_type": "display_data"
    },
    {
     "name": "stdout",
     "output_type": "stream",
     "text": [
      "(9835, 32)\n"
     ]
    }
   ],
   "source": [
    "marketdf = pd.read_csv(\"groceries_final.csv\",header = None)\n",
    "display(marketdf.head())\n",
    "print(marketdf.shape)"
   ]
  },
  {
   "cell_type": "markdown",
   "id": "1f453f75",
   "metadata": {
    "slideshow": {
     "slide_type": "slide"
    }
   },
   "source": [
    "#### As we can see that the dataset contains 9835 rows of transaction which include multiple items ;\n",
    "- some items are less frequent \n",
    "- others are almost repeated in every transaction \n",
    "\n",
    "#### so we need to filter out transaction dataset, so that we can have some selection criteria such as *minimum length of transaction* and *more frequent items* etc\n",
    "\n",
    "#### Solution: We created a function named \"prune_Dataset\"; to filter out insignificant data\n",
    "#### parameters it takes:\n",
    "- input_df : input dataset\n",
    "- length_transaction : minimum length required\n",
    "- total_sales_perc : to only consider those items which makes the given percentage of sales i.e. Market Share\n",
    "\n",
    "#### Let's prune our dataset as well"
   ]
  },
  {
   "cell_type": "code",
   "execution_count": 3,
   "id": "7802ab64",
   "metadata": {
    "slideshow": {
     "slide_type": "subslide"
    }
   },
   "outputs": [],
   "source": [
    "def prune_Dataset(input_df= marketdf,length_trans = 2,total_sales_perc = 0.40):\n",
    "    final_df2 = pd.DataFrame()\n",
    "    for i in range(input_df.shape[0]):\n",
    "        cnt = 0\n",
    "        new_input = input_df.iloc[:][i:i+1]\n",
    "        for j in range(new_input.shape[1]):\n",
    "            if new_input.iloc[:,j].isnull().bool():\n",
    "                if cnt <= length_trans:\n",
    "                    break\n",
    "                if cnt == 31:\n",
    "                    final_df2 = final_df2.append(new_input,ignore_index=True)\n",
    "            cnt+=1\n",
    "    dict2 = dict()\n",
    "    for i in range(final_df2.shape[1]):\n",
    "        for j in range(final_df2.shape[0]):\n",
    "            if final_df2[i][j] == \"nan\":\n",
    "                continue\n",
    "            elif final_df2[i][j] in list(dict2.keys()):\n",
    "                dict2[final_df2[i][j]] += 1\n",
    "            else:\n",
    "                dict2[final_df2[i][j]] =1               \n",
    "    total_purchase = sum(list(dict2.values()))\n",
    "    market_sort = []\n",
    "    for i,j in sorted(dict2.items(), key=lambda item: item[1], reverse = True):\n",
    "        market_sort.append([i,j,float(int(j) * 100 /total_purchase)])\n",
    "    new_market_df = pd.DataFrame(market_sort,columns=[\"item_name\",\"item_count\",\"item_perc\"])\n",
    "    new_market_df2 = new_market_df[new_market_df[\"item_name\"].isnull() == False]\n",
    "    new_total_purchase = sum(new_market_df2[\"item_count\"])\n",
    "    new_market_df3 = new_market_df2[[\"item_name\",\"item_count\"]]\n",
    "    li = []\n",
    "    for i in range(new_market_df3.shape[0]):\n",
    "        li.append(float(new_market_df3[\"item_count\"][i:i+1] / new_total_purchase))\n",
    "    new_market_df3.insert(2,\"item_perc\",li,True)\n",
    "    out_df = pd.DataFrame()\n",
    "    for i in range(new_market_df3.shape[0]):\n",
    "        if sum(new_market_df3[\"item_perc\"].head(i)) > total_sales_perc:\n",
    "            out_df = new_market_df3.head(i-1)\n",
    "            break\n",
    "    final_list = [final_df2,new_market_df2,new_market_df3,out_df]\n",
    "    return final_list"
   ]
  },
  {
   "cell_type": "markdown",
   "id": "0ed10ff9",
   "metadata": {
    "slideshow": {
     "slide_type": "slide"
    }
   },
   "source": [
    "#### Woah!! That function is cool right ?\n",
    "\n",
    "#### it provides us a output dataset which matches our filtering criteria ; so lets see what we have "
   ]
  },
  {
   "cell_type": "code",
   "execution_count": 4,
   "id": "fdde14e1",
   "metadata": {
    "slideshow": {
     "slide_type": "subslide"
    }
   },
   "outputs": [
    {
     "data": {
      "text/html": [
       "<div>\n",
       "<style scoped>\n",
       "    .dataframe tbody tr th:only-of-type {\n",
       "        vertical-align: middle;\n",
       "    }\n",
       "\n",
       "    .dataframe tbody tr th {\n",
       "        vertical-align: top;\n",
       "    }\n",
       "\n",
       "    .dataframe thead th {\n",
       "        text-align: right;\n",
       "    }\n",
       "</style>\n",
       "<table border=\"1\" class=\"dataframe\">\n",
       "  <thead>\n",
       "    <tr style=\"text-align: right;\">\n",
       "      <th></th>\n",
       "      <th>0</th>\n",
       "      <th>1</th>\n",
       "      <th>2</th>\n",
       "      <th>3</th>\n",
       "      <th>4</th>\n",
       "      <th>5</th>\n",
       "      <th>6</th>\n",
       "      <th>7</th>\n",
       "      <th>8</th>\n",
       "      <th>9</th>\n",
       "      <th>...</th>\n",
       "      <th>22</th>\n",
       "      <th>23</th>\n",
       "      <th>24</th>\n",
       "      <th>25</th>\n",
       "      <th>26</th>\n",
       "      <th>27</th>\n",
       "      <th>28</th>\n",
       "      <th>29</th>\n",
       "      <th>30</th>\n",
       "      <th>31</th>\n",
       "    </tr>\n",
       "  </thead>\n",
       "  <tbody>\n",
       "    <tr>\n",
       "      <th>0</th>\n",
       "      <td>citrus fruit</td>\n",
       "      <td>semi-finished bread</td>\n",
       "      <td>margarine</td>\n",
       "      <td>ready soups</td>\n",
       "      <td>NaN</td>\n",
       "      <td>NaN</td>\n",
       "      <td>NaN</td>\n",
       "      <td>NaN</td>\n",
       "      <td>NaN</td>\n",
       "      <td>NaN</td>\n",
       "      <td>...</td>\n",
       "      <td>NaN</td>\n",
       "      <td>NaN</td>\n",
       "      <td>NaN</td>\n",
       "      <td>NaN</td>\n",
       "      <td>NaN</td>\n",
       "      <td>NaN</td>\n",
       "      <td>NaN</td>\n",
       "      <td>NaN</td>\n",
       "      <td>NaN</td>\n",
       "      <td>NaN</td>\n",
       "    </tr>\n",
       "    <tr>\n",
       "      <th>1</th>\n",
       "      <td>tropical fruit</td>\n",
       "      <td>yogurt</td>\n",
       "      <td>coffee</td>\n",
       "      <td>NaN</td>\n",
       "      <td>NaN</td>\n",
       "      <td>NaN</td>\n",
       "      <td>NaN</td>\n",
       "      <td>NaN</td>\n",
       "      <td>NaN</td>\n",
       "      <td>NaN</td>\n",
       "      <td>...</td>\n",
       "      <td>NaN</td>\n",
       "      <td>NaN</td>\n",
       "      <td>NaN</td>\n",
       "      <td>NaN</td>\n",
       "      <td>NaN</td>\n",
       "      <td>NaN</td>\n",
       "      <td>NaN</td>\n",
       "      <td>NaN</td>\n",
       "      <td>NaN</td>\n",
       "      <td>NaN</td>\n",
       "    </tr>\n",
       "    <tr>\n",
       "      <th>2</th>\n",
       "      <td>pip fruit</td>\n",
       "      <td>yogurt</td>\n",
       "      <td>cream cheese</td>\n",
       "      <td>meat spreads</td>\n",
       "      <td>NaN</td>\n",
       "      <td>NaN</td>\n",
       "      <td>NaN</td>\n",
       "      <td>NaN</td>\n",
       "      <td>NaN</td>\n",
       "      <td>NaN</td>\n",
       "      <td>...</td>\n",
       "      <td>NaN</td>\n",
       "      <td>NaN</td>\n",
       "      <td>NaN</td>\n",
       "      <td>NaN</td>\n",
       "      <td>NaN</td>\n",
       "      <td>NaN</td>\n",
       "      <td>NaN</td>\n",
       "      <td>NaN</td>\n",
       "      <td>NaN</td>\n",
       "      <td>NaN</td>\n",
       "    </tr>\n",
       "    <tr>\n",
       "      <th>3</th>\n",
       "      <td>other vegetables</td>\n",
       "      <td>whole milk</td>\n",
       "      <td>condensed milk</td>\n",
       "      <td>long life bakery product</td>\n",
       "      <td>NaN</td>\n",
       "      <td>NaN</td>\n",
       "      <td>NaN</td>\n",
       "      <td>NaN</td>\n",
       "      <td>NaN</td>\n",
       "      <td>NaN</td>\n",
       "      <td>...</td>\n",
       "      <td>NaN</td>\n",
       "      <td>NaN</td>\n",
       "      <td>NaN</td>\n",
       "      <td>NaN</td>\n",
       "      <td>NaN</td>\n",
       "      <td>NaN</td>\n",
       "      <td>NaN</td>\n",
       "      <td>NaN</td>\n",
       "      <td>NaN</td>\n",
       "      <td>NaN</td>\n",
       "    </tr>\n",
       "    <tr>\n",
       "      <th>4</th>\n",
       "      <td>whole milk</td>\n",
       "      <td>butter</td>\n",
       "      <td>yogurt</td>\n",
       "      <td>rice</td>\n",
       "      <td>abrasive cleaner</td>\n",
       "      <td>NaN</td>\n",
       "      <td>NaN</td>\n",
       "      <td>NaN</td>\n",
       "      <td>NaN</td>\n",
       "      <td>NaN</td>\n",
       "      <td>...</td>\n",
       "      <td>NaN</td>\n",
       "      <td>NaN</td>\n",
       "      <td>NaN</td>\n",
       "      <td>NaN</td>\n",
       "      <td>NaN</td>\n",
       "      <td>NaN</td>\n",
       "      <td>NaN</td>\n",
       "      <td>NaN</td>\n",
       "      <td>NaN</td>\n",
       "      <td>NaN</td>\n",
       "    </tr>\n",
       "  </tbody>\n",
       "</table>\n",
       "<p>5 rows × 32 columns</p>\n",
       "</div>"
      ],
      "text/plain": [
       "                 0                    1               2   \\\n",
       "0      citrus fruit  semi-finished bread       margarine   \n",
       "1    tropical fruit               yogurt          coffee   \n",
       "2         pip fruit               yogurt   cream cheese    \n",
       "3  other vegetables           whole milk  condensed milk   \n",
       "4        whole milk               butter          yogurt   \n",
       "\n",
       "                         3                 4    5    6    7    8    9   ...  \\\n",
       "0               ready soups               NaN  NaN  NaN  NaN  NaN  NaN  ...   \n",
       "1                       NaN               NaN  NaN  NaN  NaN  NaN  NaN  ...   \n",
       "2              meat spreads               NaN  NaN  NaN  NaN  NaN  NaN  ...   \n",
       "3  long life bakery product               NaN  NaN  NaN  NaN  NaN  NaN  ...   \n",
       "4                      rice  abrasive cleaner  NaN  NaN  NaN  NaN  NaN  ...   \n",
       "\n",
       "    22   23   24   25   26   27   28   29   30   31  \n",
       "0  NaN  NaN  NaN  NaN  NaN  NaN  NaN  NaN  NaN  NaN  \n",
       "1  NaN  NaN  NaN  NaN  NaN  NaN  NaN  NaN  NaN  NaN  \n",
       "2  NaN  NaN  NaN  NaN  NaN  NaN  NaN  NaN  NaN  NaN  \n",
       "3  NaN  NaN  NaN  NaN  NaN  NaN  NaN  NaN  NaN  NaN  \n",
       "4  NaN  NaN  NaN  NaN  NaN  NaN  NaN  NaN  NaN  NaN  \n",
       "\n",
       "[5 rows x 32 columns]"
      ]
     },
     "metadata": {},
     "output_type": "display_data"
    }
   ],
   "source": [
    "final_market_list = prune_Dataset()\n",
    "final_item_df = final_market_list[0]\n",
    "display(final_item_df.head())"
   ]
  },
  {
   "cell_type": "code",
   "execution_count": 5,
   "id": "f39cab12",
   "metadata": {
    "slideshow": {
     "slide_type": "subslide"
    }
   },
   "outputs": [
    {
     "data": {
      "text/html": [
       "<div>\n",
       "<style scoped>\n",
       "    .dataframe tbody tr th:only-of-type {\n",
       "        vertical-align: middle;\n",
       "    }\n",
       "\n",
       "    .dataframe tbody tr th {\n",
       "        vertical-align: top;\n",
       "    }\n",
       "\n",
       "    .dataframe thead th {\n",
       "        text-align: right;\n",
       "    }\n",
       "</style>\n",
       "<table border=\"1\" class=\"dataframe\">\n",
       "  <thead>\n",
       "    <tr style=\"text-align: right;\">\n",
       "      <th></th>\n",
       "      <th>item_name</th>\n",
       "      <th>item_count</th>\n",
       "      <th>item_perc</th>\n",
       "    </tr>\n",
       "  </thead>\n",
       "  <tbody>\n",
       "    <tr>\n",
       "      <th>1</th>\n",
       "      <td>whole milk</td>\n",
       "      <td>2186</td>\n",
       "      <td>1.132502</td>\n",
       "    </tr>\n",
       "    <tr>\n",
       "      <th>2</th>\n",
       "      <td>other vegetables</td>\n",
       "      <td>1727</td>\n",
       "      <td>0.894707</td>\n",
       "    </tr>\n",
       "    <tr>\n",
       "      <th>3</th>\n",
       "      <td>rolls/buns</td>\n",
       "      <td>1466</td>\n",
       "      <td>0.759491</td>\n",
       "    </tr>\n",
       "    <tr>\n",
       "      <th>4</th>\n",
       "      <td>soda</td>\n",
       "      <td>1340</td>\n",
       "      <td>0.694214</td>\n",
       "    </tr>\n",
       "    <tr>\n",
       "      <th>5</th>\n",
       "      <td>yogurt</td>\n",
       "      <td>1229</td>\n",
       "      <td>0.636708</td>\n",
       "    </tr>\n",
       "  </tbody>\n",
       "</table>\n",
       "</div>"
      ],
      "text/plain": [
       "          item_name  item_count  item_perc\n",
       "1        whole milk        2186   1.132502\n",
       "2  other vegetables        1727   0.894707\n",
       "3        rolls/buns        1466   0.759491\n",
       "4              soda        1340   0.694214\n",
       "5            yogurt        1229   0.636708"
      ]
     },
     "metadata": {},
     "output_type": "display_data"
    },
    {
     "data": {
      "text/html": [
       "<div>\n",
       "<style scoped>\n",
       "    .dataframe tbody tr th:only-of-type {\n",
       "        vertical-align: middle;\n",
       "    }\n",
       "\n",
       "    .dataframe tbody tr th {\n",
       "        vertical-align: top;\n",
       "    }\n",
       "\n",
       "    .dataframe thead th {\n",
       "        text-align: right;\n",
       "    }\n",
       "</style>\n",
       "<table border=\"1\" class=\"dataframe\">\n",
       "  <thead>\n",
       "    <tr style=\"text-align: right;\">\n",
       "      <th></th>\n",
       "      <th>item_name</th>\n",
       "      <th>item_count</th>\n",
       "      <th>item_perc</th>\n",
       "    </tr>\n",
       "  </thead>\n",
       "  <tbody>\n",
       "    <tr>\n",
       "      <th>1</th>\n",
       "      <td>whole milk</td>\n",
       "      <td>2186</td>\n",
       "      <td>0.057693</td>\n",
       "    </tr>\n",
       "    <tr>\n",
       "      <th>2</th>\n",
       "      <td>other vegetables</td>\n",
       "      <td>1727</td>\n",
       "      <td>0.045579</td>\n",
       "    </tr>\n",
       "    <tr>\n",
       "      <th>3</th>\n",
       "      <td>rolls/buns</td>\n",
       "      <td>1466</td>\n",
       "      <td>0.038691</td>\n",
       "    </tr>\n",
       "    <tr>\n",
       "      <th>4</th>\n",
       "      <td>soda</td>\n",
       "      <td>1340</td>\n",
       "      <td>0.035366</td>\n",
       "    </tr>\n",
       "    <tr>\n",
       "      <th>5</th>\n",
       "      <td>yogurt</td>\n",
       "      <td>1229</td>\n",
       "      <td>0.032436</td>\n",
       "    </tr>\n",
       "  </tbody>\n",
       "</table>\n",
       "</div>"
      ],
      "text/plain": [
       "          item_name  item_count  item_perc\n",
       "1        whole milk        2186   0.057693\n",
       "2  other vegetables        1727   0.045579\n",
       "3        rolls/buns        1466   0.038691\n",
       "4              soda        1340   0.035366\n",
       "5            yogurt        1229   0.032436"
      ]
     },
     "metadata": {},
     "output_type": "display_data"
    },
    {
     "data": {
      "text/html": [
       "<div>\n",
       "<style scoped>\n",
       "    .dataframe tbody tr th:only-of-type {\n",
       "        vertical-align: middle;\n",
       "    }\n",
       "\n",
       "    .dataframe tbody tr th {\n",
       "        vertical-align: top;\n",
       "    }\n",
       "\n",
       "    .dataframe thead th {\n",
       "        text-align: right;\n",
       "    }\n",
       "</style>\n",
       "<table border=\"1\" class=\"dataframe\">\n",
       "  <thead>\n",
       "    <tr style=\"text-align: right;\">\n",
       "      <th></th>\n",
       "      <th>item_name</th>\n",
       "      <th>item_count</th>\n",
       "      <th>item_perc</th>\n",
       "    </tr>\n",
       "  </thead>\n",
       "  <tbody>\n",
       "    <tr>\n",
       "      <th>1</th>\n",
       "      <td>whole milk</td>\n",
       "      <td>2186</td>\n",
       "      <td>0.057693</td>\n",
       "    </tr>\n",
       "    <tr>\n",
       "      <th>2</th>\n",
       "      <td>other vegetables</td>\n",
       "      <td>1727</td>\n",
       "      <td>0.045579</td>\n",
       "    </tr>\n",
       "    <tr>\n",
       "      <th>3</th>\n",
       "      <td>rolls/buns</td>\n",
       "      <td>1466</td>\n",
       "      <td>0.038691</td>\n",
       "    </tr>\n",
       "    <tr>\n",
       "      <th>4</th>\n",
       "      <td>soda</td>\n",
       "      <td>1340</td>\n",
       "      <td>0.035366</td>\n",
       "    </tr>\n",
       "    <tr>\n",
       "      <th>5</th>\n",
       "      <td>yogurt</td>\n",
       "      <td>1229</td>\n",
       "      <td>0.032436</td>\n",
       "    </tr>\n",
       "  </tbody>\n",
       "</table>\n",
       "</div>"
      ],
      "text/plain": [
       "          item_name  item_count  item_perc\n",
       "1        whole milk        2186   0.057693\n",
       "2  other vegetables        1727   0.045579\n",
       "3        rolls/buns        1466   0.038691\n",
       "4              soda        1340   0.035366\n",
       "5            yogurt        1229   0.032436"
      ]
     },
     "metadata": {},
     "output_type": "display_data"
    }
   ],
   "source": [
    "final_market_df = final_market_list[1]\n",
    "final_market_df_without_null = final_market_list[2]\n",
    "output_df = final_market_list[3]\n",
    "display(final_market_df.head())\n",
    "display(final_market_df_without_null.head())\n",
    "display(output_df.head())"
   ]
  },
  {
   "cell_type": "markdown",
   "id": "f4ee9f13",
   "metadata": {
    "slideshow": {
     "slide_type": "slide"
    }
   },
   "source": [
    "#### This looks perfect; now we have our filtered dataset, now its time to actually apply the Market Basket Analysis but for that we \n",
    "\n",
    "#### need to create association rules, so let's do that\n",
    "\n",
    "#### we would be using apriori library to generate those association rules, but caveat being :\n",
    "- it can only process data in form of lists of lists and not pandas dataframe "
   ]
  },
  {
   "cell_type": "code",
   "execution_count": 6,
   "id": "127ae61d",
   "metadata": {
    "slideshow": {
     "slide_type": "subslide"
    }
   },
   "outputs": [],
   "source": [
    "records = []\n",
    "row = final_item_df.shape[0]\n",
    "col = final_item_df.shape[1]\n",
    "for i in range(0,row):\n",
    "    records.append([str(final_item_df.values[i,j]) for j in range(0, col)])"
   ]
  },
  {
   "cell_type": "markdown",
   "id": "8dd06a47",
   "metadata": {
    "slideshow": {
     "slide_type": "slide"
    }
   },
   "source": [
    "#### Now we have out lists of lists so lets generate few association rules"
   ]
  },
  {
   "cell_type": "code",
   "execution_count": 7,
   "id": "479294ec",
   "metadata": {
    "slideshow": {
     "slide_type": "subslide"
    }
   },
   "outputs": [],
   "source": [
    "association_rules = apriori(records, min_support=0.0045, min_confidence=0.2, min_lift=3, min_length=2)\n",
    "association_results = list(association_rules)"
   ]
  },
  {
   "cell_type": "markdown",
   "id": "32d58850",
   "metadata": {
    "slideshow": {
     "slide_type": "slide"
    }
   },
   "source": [
    "#### WOooohoo!! we have our association rules created but we have to make them presentable so we have to format the output. "
   ]
  },
  {
   "cell_type": "code",
   "execution_count": 8,
   "id": "340265a4",
   "metadata": {
    "slideshow": {
     "slide_type": "subslide"
    }
   },
   "outputs": [],
   "source": [
    "results = []\n",
    "for item in association_results:\n",
    "    pair = item[0]\n",
    "    items = [x for x in pair]\n",
    "    \n",
    "    consequent = str(items[0])\n",
    "    antecedent = str(items[1])\n",
    "    support = str(int(float(str(item[1])[:7]) * 100000))\n",
    "    confidence = str(item[2][0][2])[:7]\n",
    "    lift = str(item[2][0][3])[:7]\n",
    "    \n",
    "    rows = (consequent,antecedent,support,confidence,lift)\n",
    "    results.append(rows)\n",
    "    \n",
    "    final_result = pd.DataFrame(results,columns=['Consequent','Anticedent','Support','Confidence','Lift'])\n",
    "    "
   ]
  },
  {
   "cell_type": "markdown",
   "id": "b468562c",
   "metadata": {
    "slideshow": {
     "slide_type": "slide"
    }
   },
   "source": [
    "#### Finally, let see how our association rules looks like"
   ]
  },
  {
   "cell_type": "code",
   "execution_count": 9,
   "id": "1ac3b5a8",
   "metadata": {
    "slideshow": {
     "slide_type": "subslide"
    }
   },
   "outputs": [
    {
     "data": {
      "text/html": [
       "<div>\n",
       "<style scoped>\n",
       "    .dataframe tbody tr th:only-of-type {\n",
       "        vertical-align: middle;\n",
       "    }\n",
       "\n",
       "    .dataframe tbody tr th {\n",
       "        vertical-align: top;\n",
       "    }\n",
       "\n",
       "    .dataframe thead th {\n",
       "        text-align: right;\n",
       "    }\n",
       "</style>\n",
       "<table border=\"1\" class=\"dataframe\">\n",
       "  <thead>\n",
       "    <tr style=\"text-align: right;\">\n",
       "      <th></th>\n",
       "      <th>Consequent</th>\n",
       "      <th>Anticedent</th>\n",
       "      <th>Support</th>\n",
       "      <th>Confidence</th>\n",
       "      <th>Lift</th>\n",
       "    </tr>\n",
       "  </thead>\n",
       "  <tbody>\n",
       "    <tr>\n",
       "      <th>0</th>\n",
       "      <td>whole milk</td>\n",
       "      <td>tropical fruit</td>\n",
       "      <td>911</td>\n",
       "      <td>0.21825</td>\n",
       "      <td>3.23466</td>\n",
       "    </tr>\n",
       "    <tr>\n",
       "      <th>1</th>\n",
       "      <td>whole milk</td>\n",
       "      <td>root vegetables</td>\n",
       "      <td>911</td>\n",
       "      <td>0.21825</td>\n",
       "      <td>3.23466</td>\n",
       "    </tr>\n",
       "    <tr>\n",
       "      <th>2</th>\n",
       "      <td>white bread</td>\n",
       "      <td>ham</td>\n",
       "      <td>827</td>\n",
       "      <td>0.20576</td>\n",
       "      <td>3.18244</td>\n",
       "    </tr>\n",
       "    <tr>\n",
       "      <th>3</th>\n",
       "      <td>ham</td>\n",
       "      <td>white bread</td>\n",
       "      <td>827</td>\n",
       "      <td>0.20576</td>\n",
       "      <td>3.18244</td>\n",
       "    </tr>\n",
       "    <tr>\n",
       "      <th>4</th>\n",
       "      <td>root vegetables</td>\n",
       "      <td>yogurt</td>\n",
       "      <td>795</td>\n",
       "      <td>0.23300</td>\n",
       "      <td>3.33060</td>\n",
       "    </tr>\n",
       "    <tr>\n",
       "      <th>5</th>\n",
       "      <td>tropical fruit</td>\n",
       "      <td>root vegetables</td>\n",
       "      <td>795</td>\n",
       "      <td>0.23300</td>\n",
       "      <td>3.33060</td>\n",
       "    </tr>\n",
       "    <tr>\n",
       "      <th>6</th>\n",
       "      <td>flour</td>\n",
       "      <td>sugar</td>\n",
       "      <td>779</td>\n",
       "      <td>0.28143</td>\n",
       "      <td>5.45861</td>\n",
       "    </tr>\n",
       "    <tr>\n",
       "      <th>7</th>\n",
       "      <td>flour</td>\n",
       "      <td>sugar</td>\n",
       "      <td>779</td>\n",
       "      <td>0.28143</td>\n",
       "      <td>5.45861</td>\n",
       "    </tr>\n",
       "    <tr>\n",
       "      <th>8</th>\n",
       "      <td>bottled beer</td>\n",
       "      <td>red/blush wine</td>\n",
       "      <td>762</td>\n",
       "      <td>0.29113</td>\n",
       "      <td>3.08638</td>\n",
       "    </tr>\n",
       "    <tr>\n",
       "      <th>9</th>\n",
       "      <td>bottled beer</td>\n",
       "      <td>red/blush wine</td>\n",
       "      <td>762</td>\n",
       "      <td>0.29113</td>\n",
       "      <td>3.08638</td>\n",
       "    </tr>\n",
       "  </tbody>\n",
       "</table>\n",
       "</div>"
      ],
      "text/plain": [
       "        Consequent       Anticedent Support Confidence     Lift\n",
       "0       whole milk   tropical fruit     911    0.21825  3.23466\n",
       "1       whole milk  root vegetables     911    0.21825  3.23466\n",
       "2      white bread              ham     827    0.20576  3.18244\n",
       "3              ham      white bread     827    0.20576  3.18244\n",
       "4  root vegetables           yogurt     795    0.23300  3.33060\n",
       "5   tropical fruit  root vegetables     795    0.23300  3.33060\n",
       "6            flour            sugar     779    0.28143  5.45861\n",
       "7            flour            sugar     779    0.28143  5.45861\n",
       "8     bottled beer   red/blush wine     762    0.29113  3.08638\n",
       "9     bottled beer   red/blush wine     762    0.29113  3.08638"
      ]
     },
     "metadata": {},
     "output_type": "display_data"
    }
   ],
   "source": [
    "display(final_result.sort_values(\"Support\",ascending=False,ignore_index=True).head(10))"
   ]
  },
  {
   "cell_type": "markdown",
   "id": "20cdd58e",
   "metadata": {
    "slideshow": {
     "slide_type": "slide"
    }
   },
   "source": [
    "### With the help of this association rules let's perform Market Basket Analysis\n",
    "1. Seems like people who are buying whole milk are more likely to buy yogurt \n",
    "2. Seems like people who are buying whole milk are more likely to buy root vegetable\n",
    "3. Seems like people who are buying white bread are more likely to buy ham \n",
    "4. Seems like people who are buying other vegetables are more likely to buy tropical fruits\n",
    "5. Seems like people who are buying flour are more likely to buy sugar"
   ]
  },
  {
   "cell_type": "markdown",
   "id": "be12e354",
   "metadata": {
    "slideshow": {
     "slide_type": "subslide"
    }
   },
   "source": [
    "### So Considering this top 5 Association Rules in mind we can :\n",
    "- either put them together so that we can increase the sales of this shop \n",
    "- else we can also put them on the extreme points (only for those with highest confidence) ans put other things in between, to attract more shopping.\n",
    "\n",
    "## Thank you \n",
    "*******************************************************************************************************************************"
   ]
  }
 ],
 "metadata": {
  "celltoolbar": "Slideshow",
  "kernelspec": {
   "display_name": "Python 3",
   "language": "python",
   "name": "python3"
  },
  "language_info": {
   "codemirror_mode": {
    "name": "ipython",
    "version": 3
   },
   "file_extension": ".py",
   "mimetype": "text/x-python",
   "name": "python",
   "nbconvert_exporter": "python",
   "pygments_lexer": "ipython3",
   "version": "3.8.8"
  }
 },
 "nbformat": 4,
 "nbformat_minor": 5
}
